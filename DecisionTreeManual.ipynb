{
  "nbformat": 4,
  "nbformat_minor": 0,
  "metadata": {
    "colab": {
      "name": "DecisionTreeManual.ipynb",
      "provenance": [],
      "authorship_tag": "ABX9TyNNQw3AQzvsTdi7Ny+5UWa6",
      "include_colab_link": true
    },
    "kernelspec": {
      "name": "python3",
      "display_name": "Python 3"
    },
    "language_info": {
      "name": "python"
    }
  },
  "cells": [
    {
      "cell_type": "markdown",
      "metadata": {
        "id": "view-in-github",
        "colab_type": "text"
      },
      "source": [
        "<a href=\"https://colab.research.google.com/github/OsterFar/Decision_Tree/blob/main/DecisionTreeManual.ipynb\" target=\"_parent\"><img src=\"https://colab.research.google.com/assets/colab-badge.svg\" alt=\"Open In Colab\"/></a>"
      ]
    },
    {
      "cell_type": "code",
      "metadata": {
        "id": "zdosm5hBEHUZ"
      },
      "source": [
        "import pandas as pd\n",
        "import numpy as np\n",
        "\n",
        "from sklearn.tree import DecisionTreeClassifier\n",
        "from sklearn.model_selection import train_test_split\n"
      ],
      "execution_count": 9,
      "outputs": []
    },
    {
      "cell_type": "code",
      "metadata": {
        "colab": {
          "base_uri": "https://localhost:8080/",
          "height": 206
        },
        "id": "U_zG-7jhC3zQ",
        "outputId": "d90f4d7e-c662-4e25-89dd-92def94604b8"
      },
      "source": [
        "# Import the required libraries\n",
        "import pandas as pd\n",
        "import numpy as np\n",
        "# load dataset\n",
        "df = pd.read_csv(\"iris.csv\", header=None)\n",
        "df.head()"
      ],
      "execution_count": 11,
      "outputs": [
        {
          "output_type": "execute_result",
          "data": {
            "text/html": [
              "<div>\n",
              "<style scoped>\n",
              "    .dataframe tbody tr th:only-of-type {\n",
              "        vertical-align: middle;\n",
              "    }\n",
              "\n",
              "    .dataframe tbody tr th {\n",
              "        vertical-align: top;\n",
              "    }\n",
              "\n",
              "    .dataframe thead th {\n",
              "        text-align: right;\n",
              "    }\n",
              "</style>\n",
              "<table border=\"1\" class=\"dataframe\">\n",
              "  <thead>\n",
              "    <tr style=\"text-align: right;\">\n",
              "      <th></th>\n",
              "      <th>0</th>\n",
              "      <th>1</th>\n",
              "      <th>2</th>\n",
              "      <th>3</th>\n",
              "      <th>4</th>\n",
              "    </tr>\n",
              "  </thead>\n",
              "  <tbody>\n",
              "    <tr>\n",
              "      <th>0</th>\n",
              "      <td>5.1</td>\n",
              "      <td>3.5</td>\n",
              "      <td>1.4</td>\n",
              "      <td>0.2</td>\n",
              "      <td>Iris-setosa</td>\n",
              "    </tr>\n",
              "    <tr>\n",
              "      <th>1</th>\n",
              "      <td>4.9</td>\n",
              "      <td>3.0</td>\n",
              "      <td>1.4</td>\n",
              "      <td>0.2</td>\n",
              "      <td>Iris-setosa</td>\n",
              "    </tr>\n",
              "    <tr>\n",
              "      <th>2</th>\n",
              "      <td>4.7</td>\n",
              "      <td>3.2</td>\n",
              "      <td>1.3</td>\n",
              "      <td>0.2</td>\n",
              "      <td>Iris-setosa</td>\n",
              "    </tr>\n",
              "    <tr>\n",
              "      <th>3</th>\n",
              "      <td>4.6</td>\n",
              "      <td>3.1</td>\n",
              "      <td>1.5</td>\n",
              "      <td>0.2</td>\n",
              "      <td>Iris-setosa</td>\n",
              "    </tr>\n",
              "    <tr>\n",
              "      <th>4</th>\n",
              "      <td>5.0</td>\n",
              "      <td>3.6</td>\n",
              "      <td>1.4</td>\n",
              "      <td>0.2</td>\n",
              "      <td>Iris-setosa</td>\n",
              "    </tr>\n",
              "  </tbody>\n",
              "</table>\n",
              "</div>"
            ],
            "text/plain": [
              "     0    1    2    3            4\n",
              "0  5.1  3.5  1.4  0.2  Iris-setosa\n",
              "1  4.9  3.0  1.4  0.2  Iris-setosa\n",
              "2  4.7  3.2  1.3  0.2  Iris-setosa\n",
              "3  4.6  3.1  1.5  0.2  Iris-setosa\n",
              "4  5.0  3.6  1.4  0.2  Iris-setosa"
            ]
          },
          "metadata": {
            "tags": []
          },
          "execution_count": 11
        }
      ]
    },
    {
      "cell_type": "code",
      "metadata": {
        "id": "jg95brfpD2My"
      },
      "source": [
        "# Define the calculate entropy function\n",
        "def calculate_entropy(df_label):\n",
        "    classes,class_counts = np.unique(df_label,return_counts = True)\n",
        "    entropy_value = np.sum([(-class_counts[i]/np.sum(class_counts))*np.log2(class_counts[i]/np.sum(class_counts)) \n",
        "                        for i in range(len(classes))])\n",
        "    return entropy_value"
      ],
      "execution_count": 12,
      "outputs": []
    },
    {
      "cell_type": "code",
      "metadata": {
        "id": "XpUVU3TmD4mg"
      },
      "source": [
        "# Define the calculate information gain function\n",
        "def calculate_information_gain(dataset,feature,label): \n",
        "    # Calculate the dataset entropy\n",
        "    dataset_entropy = calculate_entropy(dataset[label])   \n",
        "    values,feat_counts= np.unique(dataset[feature],return_counts=True)\n",
        "    \n",
        "    # Calculate the weighted feature entropy                                \n",
        "    # Call the calculate_entropy function\n",
        "    weighted_feature_entropy = np.sum([(feat_counts[i]/np.sum(feat_counts))*calculate_entropy(dataset.where(dataset[feature]\n",
        "                              ==values[i]).dropna()[label]) for i in range(len(values))])    \n",
        "    feature_info_gain = dataset_entropy - weighted_feature_entropy\n",
        "    return feature_info_gain"
      ],
      "execution_count": 13,
      "outputs": []
    },
    {
      "cell_type": "code",
      "metadata": {
        "id": "LStN6tzPD58A"
      },
      "source": [
        "# Define the create decision tree function \n",
        "def create_decision_tree(dataset,df, features, label,parent):\n",
        "    datum = np.unique(df[label], return_counts=True) \n",
        "    print(\"datum\", datum)\n",
        "    unique_data = np.unique (dataset[label])\n",
        "    print(\"unique_data\",unique_data)\n",
        "    if len(unique_data) <= 1:\n",
        "        print(\"f1\")\n",
        "        return unique_data[0]\n",
        "    \n",
        "    elif len(dataset) == 0:\n",
        "        print(\"f2\")\n",
        "        return unique_data[np.argmax(datum[1])]\n",
        "    \n",
        "    elif len(features) == 0:\n",
        "        print(\"f3\")\n",
        "        return parent\n",
        "    \n",
        "    else:\n",
        "        parent = unique_data[np.argmax(datum[1])]\n",
        "        \n",
        "        # call the calculate_information_gain function \n",
        "        item_values = [calculate_information_gain(dataset, feature, label) for feature in features]\n",
        "        \n",
        "        optimum_feature_index = np.argmax(item_values)\n",
        "        optimum_feature=features[optimum_feature_index]\n",
        "        decision_tree={optimum_feature:{}}\n",
        "        \n",
        "        features =[i for i in features if i != optimum_feature] \n",
        "        \n",
        "        for value in np.unique (dataset[optimum_feature]):\n",
        "            min_data = dataset.where(dataset[optimum_feature] == value).dropna()\n",
        "            \n",
        "            # Recusrsive call to create_decision tree function \n",
        "            min_tree = create_decision_tree (min_data,df, features, label, parent)\n",
        "            \n",
        "            decision_tree [optimum_feature][value] = min_tree\n",
        "            \n",
        "        return(decision_tree)\n"
      ],
      "execution_count": 14,
      "outputs": []
    },
    {
      "cell_type": "code",
      "metadata": {
        "id": "Utm6vwuFD7og"
      },
      "source": [
        "def predict_diabetes (test_data, decision_tree):\n",
        "    for nodes in decision_tree.keys():\n",
        "        value = test_data[nodes]\n",
        "        decision_tree = decision_tree[nodes][value]\n",
        "        \n",
        "        prediction=0\n",
        "        if type(decision_tree) is dict:\n",
        "            #Recursive col to predict diabetes function \n",
        "            prediction = predict_diabetes(test_data, decision_tree)\n",
        "        else: \n",
        "            prediction=decision_tree\n",
        "            break\n",
        "    \n",
        "    return prediction\n"
      ],
      "execution_count": 15,
      "outputs": []
    },
    {
      "cell_type": "code",
      "metadata": {
        "colab": {
          "base_uri": "https://localhost:8080/"
        },
        "id": "Xz_0ipzZD99P",
        "outputId": "05e7a185-0c0b-4944-c79a-6c8aeaaea689"
      },
      "source": [
        "# Set the features and label\n",
        "features = df.columns[:-1]\n",
        "label = 4\n",
        "parent=None\n",
        "features"
      ],
      "execution_count": 16,
      "outputs": [
        {
          "output_type": "execute_result",
          "data": {
            "text/plain": [
              "Int64Index([0, 1, 2, 3], dtype='int64')"
            ]
          },
          "metadata": {
            "tags": []
          },
          "execution_count": 16
        }
      ]
    },
    {
      "cell_type": "code",
      "metadata": {
        "colab": {
          "base_uri": "https://localhost:8080/"
        },
        "id": "0j7B1_gxD_Mw",
        "outputId": "a68dbc04-9327-4c34-b252-30aa0ca7f6a5"
      },
      "source": [
        "# Train the decision tree model\n",
        "decision_tree = create_decision_tree(df,df,features,label,parent)"
      ],
      "execution_count": 17,
      "outputs": [
        {
          "output_type": "stream",
          "text": [
            "datum (array(['Iris-setosa', 'Iris-versicolor', 'Iris-virginica'], dtype=object), array([50, 50, 50]))\n",
            "unique_data ['Iris-setosa' 'Iris-versicolor' 'Iris-virginica']\n",
            "datum (array(['Iris-setosa', 'Iris-versicolor', 'Iris-virginica'], dtype=object), array([50, 50, 50]))\n",
            "unique_data ['Iris-setosa']\n",
            "f1\n",
            "datum (array(['Iris-setosa', 'Iris-versicolor', 'Iris-virginica'], dtype=object), array([50, 50, 50]))\n",
            "unique_data ['Iris-setosa']\n",
            "f1\n",
            "datum (array(['Iris-setosa', 'Iris-versicolor', 'Iris-virginica'], dtype=object), array([50, 50, 50]))\n",
            "unique_data ['Iris-setosa']\n",
            "f1\n",
            "datum (array(['Iris-setosa', 'Iris-versicolor', 'Iris-virginica'], dtype=object), array([50, 50, 50]))\n",
            "unique_data ['Iris-setosa']\n",
            "f1\n",
            "datum (array(['Iris-setosa', 'Iris-versicolor', 'Iris-virginica'], dtype=object), array([50, 50, 50]))\n",
            "unique_data ['Iris-setosa']\n",
            "f1\n",
            "datum (array(['Iris-setosa', 'Iris-versicolor', 'Iris-virginica'], dtype=object), array([50, 50, 50]))\n",
            "unique_data ['Iris-setosa']\n",
            "f1\n",
            "datum (array(['Iris-setosa', 'Iris-versicolor', 'Iris-virginica'], dtype=object), array([50, 50, 50]))\n",
            "unique_data ['Iris-setosa']\n",
            "f1\n",
            "datum (array(['Iris-setosa', 'Iris-versicolor', 'Iris-virginica'], dtype=object), array([50, 50, 50]))\n",
            "unique_data ['Iris-setosa']\n",
            "f1\n",
            "datum (array(['Iris-setosa', 'Iris-versicolor', 'Iris-virginica'], dtype=object), array([50, 50, 50]))\n",
            "unique_data ['Iris-setosa']\n",
            "f1\n",
            "datum (array(['Iris-setosa', 'Iris-versicolor', 'Iris-virginica'], dtype=object), array([50, 50, 50]))\n",
            "unique_data ['Iris-versicolor']\n",
            "f1\n",
            "datum (array(['Iris-setosa', 'Iris-versicolor', 'Iris-virginica'], dtype=object), array([50, 50, 50]))\n",
            "unique_data ['Iris-versicolor']\n",
            "f1\n",
            "datum (array(['Iris-setosa', 'Iris-versicolor', 'Iris-virginica'], dtype=object), array([50, 50, 50]))\n",
            "unique_data ['Iris-versicolor']\n",
            "f1\n",
            "datum (array(['Iris-setosa', 'Iris-versicolor', 'Iris-virginica'], dtype=object), array([50, 50, 50]))\n",
            "unique_data ['Iris-versicolor']\n",
            "f1\n",
            "datum (array(['Iris-setosa', 'Iris-versicolor', 'Iris-virginica'], dtype=object), array([50, 50, 50]))\n",
            "unique_data ['Iris-versicolor']\n",
            "f1\n",
            "datum (array(['Iris-setosa', 'Iris-versicolor', 'Iris-virginica'], dtype=object), array([50, 50, 50]))\n",
            "unique_data ['Iris-versicolor']\n",
            "f1\n",
            "datum (array(['Iris-setosa', 'Iris-versicolor', 'Iris-virginica'], dtype=object), array([50, 50, 50]))\n",
            "unique_data ['Iris-versicolor']\n",
            "f1\n",
            "datum (array(['Iris-setosa', 'Iris-versicolor', 'Iris-virginica'], dtype=object), array([50, 50, 50]))\n",
            "unique_data ['Iris-versicolor']\n",
            "f1\n",
            "datum (array(['Iris-setosa', 'Iris-versicolor', 'Iris-virginica'], dtype=object), array([50, 50, 50]))\n",
            "unique_data ['Iris-versicolor']\n",
            "f1\n",
            "datum (array(['Iris-setosa', 'Iris-versicolor', 'Iris-virginica'], dtype=object), array([50, 50, 50]))\n",
            "unique_data ['Iris-versicolor']\n",
            "f1\n",
            "datum (array(['Iris-setosa', 'Iris-versicolor', 'Iris-virginica'], dtype=object), array([50, 50, 50]))\n",
            "unique_data ['Iris-versicolor']\n",
            "f1\n",
            "datum (array(['Iris-setosa', 'Iris-versicolor', 'Iris-virginica'], dtype=object), array([50, 50, 50]))\n",
            "unique_data ['Iris-versicolor']\n",
            "f1\n",
            "datum (array(['Iris-setosa', 'Iris-versicolor', 'Iris-virginica'], dtype=object), array([50, 50, 50]))\n",
            "unique_data ['Iris-versicolor' 'Iris-virginica']\n",
            "datum (array(['Iris-setosa', 'Iris-versicolor', 'Iris-virginica'], dtype=object), array([50, 50, 50]))\n",
            "unique_data ['Iris-virginica']\n",
            "f1\n",
            "datum (array(['Iris-setosa', 'Iris-versicolor', 'Iris-virginica'], dtype=object), array([50, 50, 50]))\n",
            "unique_data ['Iris-versicolor']\n",
            "f1\n",
            "datum (array(['Iris-setosa', 'Iris-versicolor', 'Iris-virginica'], dtype=object), array([50, 50, 50]))\n",
            "unique_data ['Iris-versicolor']\n",
            "f1\n",
            "datum (array(['Iris-setosa', 'Iris-versicolor', 'Iris-virginica'], dtype=object), array([50, 50, 50]))\n",
            "unique_data ['Iris-versicolor']\n",
            "f1\n",
            "datum (array(['Iris-setosa', 'Iris-versicolor', 'Iris-virginica'], dtype=object), array([50, 50, 50]))\n",
            "unique_data ['Iris-versicolor']\n",
            "f1\n",
            "datum (array(['Iris-setosa', 'Iris-versicolor', 'Iris-virginica'], dtype=object), array([50, 50, 50]))\n",
            "unique_data ['Iris-versicolor']\n",
            "f1\n",
            "datum (array(['Iris-setosa', 'Iris-versicolor', 'Iris-virginica'], dtype=object), array([50, 50, 50]))\n",
            "unique_data ['Iris-versicolor']\n",
            "f1\n",
            "datum (array(['Iris-setosa', 'Iris-versicolor', 'Iris-virginica'], dtype=object), array([50, 50, 50]))\n",
            "unique_data ['Iris-versicolor']\n",
            "f1\n",
            "datum (array(['Iris-setosa', 'Iris-versicolor', 'Iris-virginica'], dtype=object), array([50, 50, 50]))\n",
            "unique_data ['Iris-versicolor']\n",
            "f1\n",
            "datum (array(['Iris-setosa', 'Iris-versicolor', 'Iris-virginica'], dtype=object), array([50, 50, 50]))\n",
            "unique_data ['Iris-versicolor' 'Iris-virginica']\n",
            "datum (array(['Iris-setosa', 'Iris-versicolor', 'Iris-virginica'], dtype=object), array([50, 50, 50]))\n",
            "unique_data ['Iris-versicolor']\n",
            "f1\n",
            "datum (array(['Iris-setosa', 'Iris-versicolor', 'Iris-virginica'], dtype=object), array([50, 50, 50]))\n",
            "unique_data ['Iris-virginica']\n",
            "f1\n",
            "datum (array(['Iris-setosa', 'Iris-versicolor', 'Iris-virginica'], dtype=object), array([50, 50, 50]))\n",
            "unique_data ['Iris-virginica']\n",
            "f1\n",
            "datum (array(['Iris-setosa', 'Iris-versicolor', 'Iris-virginica'], dtype=object), array([50, 50, 50]))\n",
            "unique_data ['Iris-versicolor']\n",
            "f1\n",
            "datum (array(['Iris-setosa', 'Iris-versicolor', 'Iris-virginica'], dtype=object), array([50, 50, 50]))\n",
            "unique_data ['Iris-versicolor' 'Iris-virginica']\n",
            "datum (array(['Iris-setosa', 'Iris-versicolor', 'Iris-virginica'], dtype=object), array([50, 50, 50]))\n",
            "unique_data ['Iris-versicolor']\n",
            "f1\n",
            "datum (array(['Iris-setosa', 'Iris-versicolor', 'Iris-virginica'], dtype=object), array([50, 50, 50]))\n",
            "unique_data ['Iris-virginica']\n",
            "f1\n",
            "datum (array(['Iris-setosa', 'Iris-versicolor', 'Iris-virginica'], dtype=object), array([50, 50, 50]))\n",
            "unique_data ['Iris-virginica']\n",
            "f1\n",
            "datum (array(['Iris-setosa', 'Iris-versicolor', 'Iris-virginica'], dtype=object), array([50, 50, 50]))\n",
            "unique_data ['Iris-virginica']\n",
            "f1\n",
            "datum (array(['Iris-setosa', 'Iris-versicolor', 'Iris-virginica'], dtype=object), array([50, 50, 50]))\n",
            "unique_data ['Iris-versicolor']\n",
            "f1\n",
            "datum (array(['Iris-setosa', 'Iris-versicolor', 'Iris-virginica'], dtype=object), array([50, 50, 50]))\n",
            "unique_data ['Iris-versicolor' 'Iris-virginica']\n",
            "datum (array(['Iris-setosa', 'Iris-versicolor', 'Iris-virginica'], dtype=object), array([50, 50, 50]))\n",
            "unique_data ['Iris-virginica']\n",
            "f1\n",
            "datum (array(['Iris-setosa', 'Iris-versicolor', 'Iris-virginica'], dtype=object), array([50, 50, 50]))\n",
            "unique_data ['Iris-virginica']\n",
            "f1\n",
            "datum (array(['Iris-setosa', 'Iris-versicolor', 'Iris-virginica'], dtype=object), array([50, 50, 50]))\n",
            "unique_data ['Iris-virginica']\n",
            "f1\n",
            "datum (array(['Iris-setosa', 'Iris-versicolor', 'Iris-virginica'], dtype=object), array([50, 50, 50]))\n",
            "unique_data ['Iris-versicolor']\n",
            "f1\n",
            "datum (array(['Iris-setosa', 'Iris-versicolor', 'Iris-virginica'], dtype=object), array([50, 50, 50]))\n",
            "unique_data ['Iris-versicolor' 'Iris-virginica']\n",
            "datum (array(['Iris-setosa', 'Iris-versicolor', 'Iris-virginica'], dtype=object), array([50, 50, 50]))\n",
            "unique_data ['Iris-virginica']\n",
            "f1\n",
            "datum (array(['Iris-setosa', 'Iris-versicolor', 'Iris-virginica'], dtype=object), array([50, 50, 50]))\n",
            "unique_data ['Iris-virginica']\n",
            "f1\n",
            "datum (array(['Iris-setosa', 'Iris-versicolor', 'Iris-virginica'], dtype=object), array([50, 50, 50]))\n",
            "unique_data ['Iris-versicolor']\n",
            "f1\n",
            "datum (array(['Iris-setosa', 'Iris-versicolor', 'Iris-virginica'], dtype=object), array([50, 50, 50]))\n",
            "unique_data ['Iris-virginica']\n",
            "f1\n",
            "datum (array(['Iris-setosa', 'Iris-versicolor', 'Iris-virginica'], dtype=object), array([50, 50, 50]))\n",
            "unique_data ['Iris-virginica']\n",
            "f1\n",
            "datum (array(['Iris-setosa', 'Iris-versicolor', 'Iris-virginica'], dtype=object), array([50, 50, 50]))\n",
            "unique_data ['Iris-virginica']\n",
            "f1\n",
            "datum (array(['Iris-setosa', 'Iris-versicolor', 'Iris-virginica'], dtype=object), array([50, 50, 50]))\n",
            "unique_data ['Iris-virginica']\n",
            "f1\n",
            "datum (array(['Iris-setosa', 'Iris-versicolor', 'Iris-virginica'], dtype=object), array([50, 50, 50]))\n",
            "unique_data ['Iris-virginica']\n",
            "f1\n",
            "datum (array(['Iris-setosa', 'Iris-versicolor', 'Iris-virginica'], dtype=object), array([50, 50, 50]))\n",
            "unique_data ['Iris-virginica']\n",
            "f1\n",
            "datum (array(['Iris-setosa', 'Iris-versicolor', 'Iris-virginica'], dtype=object), array([50, 50, 50]))\n",
            "unique_data ['Iris-virginica']\n",
            "f1\n",
            "datum (array(['Iris-setosa', 'Iris-versicolor', 'Iris-virginica'], dtype=object), array([50, 50, 50]))\n",
            "unique_data ['Iris-virginica']\n",
            "f1\n",
            "datum (array(['Iris-setosa', 'Iris-versicolor', 'Iris-virginica'], dtype=object), array([50, 50, 50]))\n",
            "unique_data ['Iris-virginica']\n",
            "f1\n",
            "datum (array(['Iris-setosa', 'Iris-versicolor', 'Iris-virginica'], dtype=object), array([50, 50, 50]))\n",
            "unique_data ['Iris-virginica']\n",
            "f1\n",
            "datum (array(['Iris-setosa', 'Iris-versicolor', 'Iris-virginica'], dtype=object), array([50, 50, 50]))\n",
            "unique_data ['Iris-virginica']\n",
            "f1\n",
            "datum (array(['Iris-setosa', 'Iris-versicolor', 'Iris-virginica'], dtype=object), array([50, 50, 50]))\n",
            "unique_data ['Iris-virginica']\n",
            "f1\n",
            "datum (array(['Iris-setosa', 'Iris-versicolor', 'Iris-virginica'], dtype=object), array([50, 50, 50]))\n",
            "unique_data ['Iris-virginica']\n",
            "f1\n",
            "datum (array(['Iris-setosa', 'Iris-versicolor', 'Iris-virginica'], dtype=object), array([50, 50, 50]))\n",
            "unique_data ['Iris-virginica']\n",
            "f1\n",
            "datum (array(['Iris-setosa', 'Iris-versicolor', 'Iris-virginica'], dtype=object), array([50, 50, 50]))\n",
            "unique_data ['Iris-virginica']\n",
            "f1\n",
            "datum (array(['Iris-setosa', 'Iris-versicolor', 'Iris-virginica'], dtype=object), array([50, 50, 50]))\n",
            "unique_data ['Iris-virginica']\n",
            "f1\n",
            "datum (array(['Iris-setosa', 'Iris-versicolor', 'Iris-virginica'], dtype=object), array([50, 50, 50]))\n",
            "unique_data ['Iris-virginica']\n",
            "f1\n",
            "datum (array(['Iris-setosa', 'Iris-versicolor', 'Iris-virginica'], dtype=object), array([50, 50, 50]))\n",
            "unique_data ['Iris-virginica']\n",
            "f1\n"
          ],
          "name": "stdout"
        }
      ]
    },
    {
      "cell_type": "code",
      "metadata": {
        "colab": {
          "base_uri": "https://localhost:8080/",
          "height": 55
        },
        "id": "6JFw2LhTEBEQ",
        "outputId": "38a1f6c3-2832-423d-d9ed-9558e1927a96"
      },
      "source": [
        "# Predict using the trained model\n",
        "sample_data = {0:4.7, 1:3.2, 2:1.3, 3:0.2}\n",
        "print(sample_data)\n",
        "test_data = pd.Series(sample_data)\n",
        "prediction = predict_diabetes(test_data,decision_tree)\n",
        "prediction"
      ],
      "execution_count": 19,
      "outputs": [
        {
          "output_type": "stream",
          "text": [
            "{0: 4.7, 1: 3.2, 2: 1.3, 3: 0.2}\n"
          ],
          "name": "stdout"
        },
        {
          "output_type": "execute_result",
          "data": {
            "application/vnd.google.colaboratory.intrinsic+json": {
              "type": "string"
            },
            "text/plain": [
              "'Iris-setosa'"
            ]
          },
          "metadata": {
            "tags": []
          },
          "execution_count": 19
        }
      ]
    },
    {
      "cell_type": "code",
      "metadata": {
        "id": "J6zGjGNZEGdR"
      },
      "source": [
        ""
      ],
      "execution_count": null,
      "outputs": []
    }
  ]
}